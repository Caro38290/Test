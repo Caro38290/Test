{
 "cells": [
  {
   "cell_type": "markdown",
   "metadata": {},
   "source": [
    "# Build a quiz - Part 2"
   ]
  },
  {
   "cell_type": "markdown",
   "metadata": {},
   "source": [
    "Below is the code we wrote yesterday, that asks three questions to the user and allows up to 3 wrong answers :"
   ]
  },
  {
   "cell_type": "code",
   "execution_count": 2,
   "metadata": {},
   "outputs": [
    {
     "name": "stdout",
     "output_type": "stream",
     "text": [
      "here is our beautiful quiz!\n",
      "Dang, wrong answer 😓... You still have 2 chances left\n",
      "Dang, wrong answer 😓... You still have 1 chances left\n",
      "Dang, wrong answer 😓... You still have 0 chances left\n",
      "Oh no! It's game over 💥\n"
     ]
    }
   ],
   "source": [
    "nb_of_chances = 3\n",
    "\n",
    "print(\"here is our beautiful quiz!\")\n",
    "\n",
    "if nb_of_chances > 0:\n",
    "    question1= input(\"How many times France won the Soccer World Cup?\")\n",
    "    while question1 != \"2\":\n",
    "        nb_of_chances -= 1\n",
    "        print(\"Dang, wrong answer 😓... You still have {} chances left\".format(nb_of_chances))\n",
    "        if nb_of_chances == 0:\n",
    "            print(\"Oh no! It's game over 💥\")\n",
    "            break\n",
    "        question1 = input(\"How many times France won the Soccer World Cup?\")\n",
    "\n",
    "if nb_of_chances > 0:\n",
    "    question2 = input(\"When was Apple founded?\")\n",
    "    while question2 != \"1976\":\n",
    "        nb_of_chances -=1\n",
    "        print(\"Dang, wrong answer 😓... You still have {} chances left\".format(nb_of_chances))\n",
    "        if nb_of_chances == 0:\n",
    "            print(\"Oh no! It's game over 💥\")\n",
    "            break\n",
    "        question2 = input(\"When was Apple founded?\")\n",
    "\n",
    "\n",
    "if nb_of_chances > 0:\n",
    "    question3 = input(\"Who founded SpaceX?\")\n",
    "    question3 = question3.lower()\n",
    "    while question3 != \"elon musk\":\n",
    "        nb_of_chances -=1\n",
    "        print(\"Dang, wrong answer 😓... You still have {} chances left\".format(nb_of_chances))\n",
    "        if nb_of_chances == 0:\n",
    "            print(\"Oh no! It's game over 💥\")\n",
    "            break\n",
    "        question3 = input(\"Who founded SpaceX?\")\n",
    "        question3 = question3.lower()\n",
    "\n",
    "if nb_of_chances > 0:\n",
    "    print(\"🥳 Congratulations, you've won the quiz 🥳\")\n"
   ]
  },
  {
   "attachments": {},
   "cell_type": "markdown",
   "metadata": {},
   "source": [
    "Let's refactor our quiz now that we know how to be dry.\n",
    "\n",
    "## SPECIFICATIONS (SPECS)\n",
    "\n",
    "* Your code should be DRY \n",
    "* You should use functions "
   ]
  },
  {
   "cell_type": "markdown",
   "metadata": {},
   "source": [
    "Solution avec une classe"
   ]
  },
  {
   "cell_type": "code",
   "execution_count": null,
   "metadata": {},
   "outputs": [
    {
     "name": "stdout",
     "output_type": "stream",
     "text": [
      "Welcome to the Quiz!\n",
      "You have a total of 3 attempts for all questions.\n",
      "\n",
      "--- Question 1 ---\n",
      "Correct!\n",
      "\n",
      "--- Question 2 ---\n",
      "Correct!\n",
      "\n",
      "--- Question 3 ---\n",
      "Correct!\n",
      "\n",
      "--- Quiz Complete ---\n",
      "Well done, you have won the quiz!\n"
     ]
    }
   ],
   "source": [
    "from typing import List, Tuple\n",
    "\n",
    "class Quizz:\n",
    "    \"\"\"\n",
    "    A class to manage and run a quiz game.\n",
    "    It handles questions, answers, and the number of attempts allowed for the entire quiz.\n",
    "    \"\"\"\n",
    "\n",
    "    def __init__(self, questions: List[Tuple[str, str] | None], total_attempts: int):\n",
    "        \"\"\"\n",
    "        Initializes the Quiz with a list of questions and the total number of attempts.\n",
    "\n",
    "        Args:\n",
    "            questions (List[Tuple[str, str]]): A list of tuples, where each tuple\n",
    "                                               is (question_string, correct_answer_string).\n",
    "            total_attempts (int): The total number of attempts allowed across all questions.\n",
    "        \"\"\"\n",
    "        self.questions = questions\n",
    "        self.total_attempts = total_attempts\n",
    "        self.attempts_left = total_attempts # Initialize attempts left for the quiz\n",
    "\n",
    "    # here we add a _ before the method name to indicate the method should not be\n",
    "    # called by anything else than an other method of the class\n",
    "    # (private method)\n",
    "    def _ask_question(self, question_text: str, correct_answer: str) -> bool:\n",
    "        \"\"\"\n",
    "        Asks the user a single question and manages attempts for that specific question\n",
    "        from the shared pool of lives.\n",
    "\n",
    "        Args:\n",
    "            question_text (str): The question to display to the user.\n",
    "            correct_answer (str): The expected correct answer (case-insensitive).\n",
    "\n",
    "        Returns:\n",
    "            bool: True if the question was answered correctly, False otherwise (if attempts run out).\n",
    "        \"\"\"\n",
    "        # Note: The 'attempts_left' is managed at the quiz level (self.attempts_left)\n",
    "        # and not passed as a separate argument for this method, as it's a shared resource.\n",
    "        # Loop until the correct answer is given or global attempts run out\n",
    " \n",
    "        while input(question_text + \" \").lower().strip() != correct_answer.lower().strip():\n",
    "            self.attempts_left -= 1\n",
    "            if self.attempts_left > 0:\n",
    "                print(f\"Sorry, that's incorrect. You have {self.attempts_left} attempts left for the quizz.\")\n",
    "            else:\n",
    "                print(f\"Oh no, you've run out of attempts. The correct answer was '{correct_answer}'.\")\n",
    "                return False # Attempts exhausted for the quiz\n",
    "            \n",
    "        # if loop ended with no return, it means the user has given a good answer\n",
    "        print(\"Correct!\")\n",
    "        return True # Question answered correctly\n",
    "\n",
    "\n",
    "    def run_quizz(self):\n",
    "        \"\"\"\n",
    "        Runs the entire quizz, iterating through all questions and managing the\n",
    "        shared pool of attempts.\n",
    "        \"\"\"\n",
    "        print(\"Welcome to the Quiz!\")\n",
    "        print(f\"You have a total of {self.total_attempts} attempts for all questions.\\n\")\n",
    "\n",
    "        # Iterate through each question in the quiz\n",
    "        for i, (question, answer) in enumerate(self.questions):\n",
    "            print(f\"--- Question {i + 1} ---\")\n",
    "            \n",
    "            # Ask the question and check if the game is still on\n",
    "            game_is_on = self._ask_question(question, answer)\n",
    "\n",
    "            # Exite if game is over\n",
    "            if not game_is_on:\n",
    "                print(\"\\n--- Quiz Over ---\")\n",
    "                print(\"You lost the quiz. Better luck next time!\")\n",
    "                return # Exit the run_quiz method\n",
    "\n",
    "            print(\"\") # Add a newline for spacing between questions\n",
    "\n",
    "        # If the loop completes, it means all questions were answered correctly\n",
    "        print(\"--- Quiz Complete ---\")\n",
    "        print(\"Well done, you have won the quiz!\")\n",
    "\n",
    "# --- Quiz Configuration ---\n",
    "# Define the questions as a list of tuples (question_string, correct_answer_string)\n",
    "quizz_questions_data = [\n",
    "    (\"How many times has the France soccer team won the World Cup?\", \"2\"),\n",
    "    (\"When was Apple founded?\", \"1976\"),\n",
    "    (\"Who founded SpaceX?\", \"Elon Musk\")\n",
    "]\n",
    "\n",
    "# Define the total number of attempts allowed for the entire quiz\n",
    "overall_attempts_allowed = 3\n",
    "\n",
    "# --- Run the Quiz ---\n",
    "# Create an instance of the Quizz class\n",
    "my_quizz = Quizz(quizz_questions_data, overall_attempts_allowed)\n",
    "# Run the quiz\n",
    "my_quizz.run_quizz()\n"
   ]
  },
  {
   "cell_type": "markdown",
   "metadata": {},
   "source": [
    "solution Kévin"
   ]
  },
  {
   "cell_type": "code",
   "execution_count": 6,
   "metadata": {},
   "outputs": [
    {
     "name": "stdout",
     "output_type": "stream",
     "text": [
      "Here is our beautiful quiz!\n",
      "Dang, wrong answer 😓... You still have 2 chances left\n",
      "Dang, wrong answer 😓... You still have 1 chances left\n",
      "Oh no! It's game over 💥\n"
     ]
    }
   ],
   "source": [
    "def ask_question(question_text, correct_answer, case_sensitive=True):\n",
    "\n",
    "    answer = input(question_text)\n",
    "\n",
    "    if not case_sensitive:\n",
    "        answer = answer.lower()\n",
    "        correct_answer = correct_answer.lower()\n",
    "    return answer == correct_answer\n",
    "\n",
    "\n",
    "def run_quiz(questions, nb_of_chances):\n",
    "\n",
    "    print(\"Here is our beautiful quiz!\")\n",
    "    for question_text, correct_answer, case_sensitive in questions:\n",
    "        if nb_of_chances <= 0:\n",
    "            break\n",
    "\n",
    "        while nb_of_chances > 0:\n",
    "            if ask_question(question_text, correct_answer, case_sensitive):\n",
    "                break\n",
    "            else:\n",
    "                nb_of_chances -= 1\n",
    "                if nb_of_chances > 0:\n",
    "                    print(\"Dang, wrong answer 😓... You still have {} chances left\".format(nb_of_chances))\n",
    "                else:\n",
    "                    print(\"Oh no! It's game over 💥\")\n",
    "                    return\n",
    "\n",
    "    if nb_of_chances > 0:\n",
    "        print(\"Congratulations, you've won the quiz\")\n",
    "\n",
    "\n",
    "nb_of_chances = 3\n",
    "\n",
    "questions = [\n",
    "    (\"How many times France won the Soccer World Cup? \", \"2\", True),\n",
    "    (\"When was Apple founded? \", \"1976\", True), \n",
    "    (\"Who founded SpaceX? \", \"elon musk\", False) \n",
    "]\n",
    "\n",
    "run_quiz(questions, nb_of_chances)\n"
   ]
  }
 ],
 "metadata": {
  "kernelspec": {
   "display_name": "Python 3",
   "language": "python",
   "name": "python3"
  },
  "language_info": {
   "codemirror_mode": {
    "name": "ipython",
    "version": 3
   },
   "file_extension": ".py",
   "mimetype": "text/x-python",
   "name": "python",
   "nbconvert_exporter": "python",
   "pygments_lexer": "ipython3",
   "version": "3.13.3"
  },
  "orig_nbformat": 2
 },
 "nbformat": 4,
 "nbformat_minor": 2
}
